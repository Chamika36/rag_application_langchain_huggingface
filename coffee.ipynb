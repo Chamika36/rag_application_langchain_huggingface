{
  "nbformat": 4,
  "nbformat_minor": 0,
  "metadata": {
    "colab": {
      "provenance": [],
      "authorship_tag": "ABX9TyNtN6Xs0VrTUTjycAKuPPh1",
      "include_colab_link": true
    },
    "kernelspec": {
      "name": "python3",
      "display_name": "Python 3"
    },
    "language_info": {
      "name": "python"
    }
  },
  "cells": [
    {
      "cell_type": "markdown",
      "metadata": {
        "id": "view-in-github",
        "colab_type": "text"
      },
      "source": [
        "<a href=\"https://colab.research.google.com/github/Chamika36/rag_application_langchain_huggingface/blob/main/coffee.ipynb\" target=\"_parent\"><img src=\"https://colab.research.google.com/assets/colab-badge.svg\" alt=\"Open In Colab\"/></a>"
      ]
    },
    {
      "source": [
        "import numpy as np\n",
        "from tensorflow import keras\n",
        "from tensorflow.keras.layers import Dense # Import the Dense layer class\n",
        "\n",
        "x = np.array([[200.0, 17.0]])\n",
        "layer_1 = Dense(units=3, activation='sigmoid')\n",
        "a1 = layer_1(x)\n",
        "\n",
        "layer_2 = Dense(units=1, activation='sigmoid')\n",
        "a2 = layer_2(a1)\n",
        "print(a2)"
      ],
      "cell_type": "code",
      "metadata": {
        "colab": {
          "base_uri": "https://localhost:8080/"
        },
        "id": "7dcxCR9nZJSy",
        "outputId": "a3f9eebd-ab77-4bea-9bca-2b195ae36704"
      },
      "execution_count": 2,
      "outputs": [
        {
          "output_type": "stream",
          "name": "stdout",
          "text": [
            "tf.Tensor([[0.290909]], shape=(1, 1), dtype=float32)\n"
          ]
        }
      ]
    },
    {
      "cell_type": "code",
      "source": [],
      "metadata": {
        "id": "nrBnOEF1Yutp"
      },
      "execution_count": null,
      "outputs": []
    }
  ]
}